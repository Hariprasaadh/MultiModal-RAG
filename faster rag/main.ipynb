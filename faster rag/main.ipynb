{
 "cells": [
  {
   "cell_type": "code",
   "execution_count": 1,
   "id": "3c10ed02",
   "metadata": {},
   "outputs": [],
   "source": [
    "import logging\n",
    "import sys\n",
    "import os\n",
    "from dotenv import load_dotenv"
   ]
  },
  {
   "cell_type": "code",
   "execution_count": 2,
   "id": "f269822b",
   "metadata": {},
   "outputs": [
    {
     "data": {
      "text/plain": [
       "True"
      ]
     },
     "execution_count": 2,
     "metadata": {},
     "output_type": "execute_result"
    }
   ],
   "source": [
    "load_dotenv()"
   ]
  },
  {
   "cell_type": "code",
   "execution_count": 6,
   "id": "9b463894",
   "metadata": {},
   "outputs": [],
   "source": [
    "import qdrant_client\n",
    "from qdrant_client import models\n",
    "from llama_index.core import SimpleDirectoryReader\n",
    "from llama_index.embeddings.fastembed import FastEmbedEmbedding\n",
    "from llama_index.llms.groq import Groq"
   ]
  },
  {
   "cell_type": "code",
   "execution_count": 7,
   "id": "20676882",
   "metadata": {},
   "outputs": [],
   "source": [
    "data = SimpleDirectoryReader('data').load_data()"
   ]
  },
  {
   "cell_type": "code",
   "execution_count": 8,
   "id": "5568fbd3",
   "metadata": {},
   "outputs": [
    {
     "data": {
      "text/plain": [
       "647"
      ]
     },
     "execution_count": 8,
     "metadata": {},
     "output_type": "execute_result"
    }
   ],
   "source": [
    "len(data)"
   ]
  },
  {
   "cell_type": "code",
   "execution_count": 9,
   "id": "9cfc17c0",
   "metadata": {},
   "outputs": [
    {
     "data": {
      "text/plain": [
       "Document(id_='7d3ab9b2-919c-498a-9b9d-32ba1228d2bc', embedding=None, metadata={'page_label': '67', 'file_name': 'ComputerScienceOne.pdf', 'file_path': 'c:\\\\Users\\\\Dell\\\\Documents\\\\GitHub\\\\MultiModal-RAG\\\\faster rag\\\\data\\\\ComputerScienceOne.pdf', 'file_type': 'application/pdf', 'file_size': 2300943, 'creation_date': '2025-07-28', 'last_modified_date': '2025-07-28'}, excluded_embed_metadata_keys=['file_name', 'file_type', 'file_size', 'creation_date', 'last_modified_date', 'last_accessed_date'], excluded_llm_metadata_keys=['file_name', 'file_type', 'file_size', 'creation_date', 'last_modified_date', 'last_accessed_date'], relationships={}, metadata_template='{key}: {value}', metadata_separator='\\n', text_resource=MediaResource(embeddings=None, data=None, text='3.1. Logical Operators\\nPsuedocode Code Meaning Type\\n< < less than relational\\n> > greater than relational\\n≤ <= less than or equal to relational\\n≥ >= greater than or equal to relational\\n= == equal to equality\\n̸= != not equal to equality\\nTable 3.1.: Comparison Operators\\nComparisons can also be used with more complex expressions such as\\n√\\nb2 −4ac <0\\nwhich could commonly be expressed in code as\\nsqrt(b*b - 4*a*c) < 0\\nObserve that both operands could be constants, such as 5 ≤10 but there would be little\\npoint. Since both are constants, the truth value of the expression is already determined\\nbefore the program runs. Such an expression could easily be replaced with a simple true\\nor false variable. These are referred to as tautologies and contradictions respectively.\\nWe’ll examine them in more detail below.\\nPitfalls\\nSometimes you may want to check that a variable falls within a certain range. For\\nexample, we may want to test that xlies in the interval [0,10] (between 0 and 10 inclusive\\non both ends). Mathematically we could express this as\\n0 ≤x≤10\\nand in code, we may try to do something like\\n0 <= x <= 10\\nHowever, when used in code, the operators <= are binary and must be applied to two\\noperands. In a language the ﬁrst inequality, 0 <= x would be evaluated and would\\nresult in either true or false. The result is then used in the second comparison which\\nresults in a question such as true ≤10 or false ≤10.\\nSome languages would treat this as a syntax error and not allow such an expression to\\nbe compiled since you cannot compare a Boolean value to a numerical value. However,\\nother languages may allow this, typically representing true with some nonzero value such\\nas 1 and false with 0. In either case, the expression would evaluate to true since both\\n67', path=None, url=None, mimetype=None), image_resource=None, audio_resource=None, video_resource=None, text_template='{metadata_str}\\n\\n{content}')"
      ]
     },
     "execution_count": 9,
     "metadata": {},
     "output_type": "execute_result"
    }
   ],
   "source": [
    "data[100]"
   ]
  },
  {
   "cell_type": "code",
   "execution_count": 10,
   "id": "134ab818",
   "metadata": {},
   "outputs": [
    {
     "data": {
      "text/plain": [
       "'3.1. Logical Operators\\nPsuedocode Code Meaning Type\\n< < less than relational\\n> > greater than relational\\n≤ <= less than or equal to relational\\n≥ >= greater than or equal to relational\\n= == equal to equality\\n̸= != not equal to equality\\nTable 3.1.: Comparison Operators\\nComparisons can also be used with more complex expressions such as\\n√\\nb2 −4ac <0\\nwhich could commonly be expressed in code as\\nsqrt(b*b - 4*a*c) < 0\\nObserve that both operands could be constants, such as 5 ≤10 but there would be little\\npoint. Since both are constants, the truth value of the expression is already determined\\nbefore the program runs. Such an expression could easily be replaced with a simple true\\nor false variable. These are referred to as tautologies and contradictions respectively.\\nWe’ll examine them in more detail below.\\nPitfalls\\nSometimes you may want to check that a variable falls within a certain range. For\\nexample, we may want to test that xlies in the interval [0,10] (between 0 and 10 inclusive\\non both ends). Mathematically we could express this as\\n0 ≤x≤10\\nand in code, we may try to do something like\\n0 <= x <= 10\\nHowever, when used in code, the operators <= are binary and must be applied to two\\noperands. In a language the ﬁrst inequality, 0 <= x would be evaluated and would\\nresult in either true or false. The result is then used in the second comparison which\\nresults in a question such as true ≤10 or false ≤10.\\nSome languages would treat this as a syntax error and not allow such an expression to\\nbe compiled since you cannot compare a Boolean value to a numerical value. However,\\nother languages may allow this, typically representing true with some nonzero value such\\nas 1 and false with 0. In either case, the expression would evaluate to true since both\\n67'"
      ]
     },
     "execution_count": 10,
     "metadata": {},
     "output_type": "execute_result"
    }
   ],
   "source": [
    "data[100].text"
   ]
  },
  {
   "cell_type": "code",
   "execution_count": 11,
   "id": "25bd7b60",
   "metadata": {},
   "outputs": [],
   "source": [
    "texts = [doc.text for doc in data]"
   ]
  },
  {
   "cell_type": "code",
   "execution_count": 12,
   "id": "970ebd47",
   "metadata": {},
   "outputs": [
    {
     "data": {
      "text/plain": [
       "'3.1. Logical Operators\\nPsuedocode Code Meaning Type\\n< < less than relational\\n> > greater than relational\\n≤ <= less than or equal to relational\\n≥ >= greater than or equal to relational\\n= == equal to equality\\n̸= != not equal to equality\\nTable 3.1.: Comparison Operators\\nComparisons can also be used with more complex expressions such as\\n√\\nb2 −4ac <0\\nwhich could commonly be expressed in code as\\nsqrt(b*b - 4*a*c) < 0\\nObserve that both operands could be constants, such as 5 ≤10 but there would be little\\npoint. Since both are constants, the truth value of the expression is already determined\\nbefore the program runs. Such an expression could easily be replaced with a simple true\\nor false variable. These are referred to as tautologies and contradictions respectively.\\nWe’ll examine them in more detail below.\\nPitfalls\\nSometimes you may want to check that a variable falls within a certain range. For\\nexample, we may want to test that xlies in the interval [0,10] (between 0 and 10 inclusive\\non both ends). Mathematically we could express this as\\n0 ≤x≤10\\nand in code, we may try to do something like\\n0 <= x <= 10\\nHowever, when used in code, the operators <= are binary and must be applied to two\\noperands. In a language the ﬁrst inequality, 0 <= x would be evaluated and would\\nresult in either true or false. The result is then used in the second comparison which\\nresults in a question such as true ≤10 or false ≤10.\\nSome languages would treat this as a syntax error and not allow such an expression to\\nbe compiled since you cannot compare a Boolean value to a numerical value. However,\\nother languages may allow this, typically representing true with some nonzero value such\\nas 1 and false with 0. In either case, the expression would evaluate to true since both\\n67'"
      ]
     },
     "execution_count": 12,
     "metadata": {},
     "output_type": "execute_result"
    }
   ],
   "source": [
    "texts[100]"
   ]
  },
  {
   "cell_type": "code",
   "execution_count": 13,
   "id": "65ded420",
   "metadata": {},
   "outputs": [
    {
     "data": {
      "text/plain": [
       "647"
      ]
     },
     "execution_count": 13,
     "metadata": {},
     "output_type": "execute_result"
    }
   ],
   "source": [
    "len(texts)"
   ]
  },
  {
   "cell_type": "code",
   "execution_count": 14,
   "id": "7d0b6113",
   "metadata": {},
   "outputs": [],
   "source": [
    "llm = Groq(model=\"deepseek-r1-distill-llama-70b\",api_key=os.getenv(\"GROQ_API_KEY\"))"
   ]
  },
  {
   "cell_type": "code",
   "execution_count": 15,
   "id": "4e3198de",
   "metadata": {},
   "outputs": [],
   "source": [
    "response = llm.complete(\"What is the meaning of life\").text"
   ]
  },
  {
   "cell_type": "code",
   "execution_count": 16,
   "id": "2fbede1c",
   "metadata": {},
   "outputs": [],
   "source": [
    "result = response.split(\"</think>\", 1)[1].strip()"
   ]
  },
  {
   "cell_type": "code",
   "execution_count": 17,
   "id": "88424330",
   "metadata": {},
   "outputs": [
    {
     "data": {
      "text/plain": [
       "\"The meaning of life is a deeply personal and multifaceted question that varies depending on individual beliefs, experiences, and cultural contexts. Here is a structured summary of the exploration:\\n\\n1. **Subjectivity and Individualism**: The meaning of life is subjective and can differ for each person. It is shaped by unique experiences and beliefs, allowing individuals to create their own purpose.\\n\\n2. **Philosophical Perspectives**: \\n   - **Existentialism**: Suggests that life has no inherent meaning, and individuals must create their own purpose.\\n   - **Religious Views**: Often provide a meaning tied to serving a higher power or following specific teachings.\\n\\n3. **Scientific and Evolutionary Views**: From an evolutionary standpoint, life's meaning might be linked to survival and genetic continuation, though this perspective may overlook emotional and social aspects.\\n\\n4. **Psychological Theories**: \\n   - **Maslow's Hierarchy**: Emphasizes self-actualization and realizing one's potential.\\n   - **Flow Theory**: Finds meaning in engaging, challenging activities that induce a state of complete absorption.\\n\\n5. **Relationships and Connections**: Many find meaning in interactions with others, building families, friendships, and communities, emphasizing love and support.\\n\\n6. **Pursuit of Knowledge**: Some derive meaning from learning, exploration, and contributing to societal progress.\\n\\n7. **Cultural Influences**: Cultural values, such as collectivism versus individualism, shape what is considered meaningful, influencing priorities like family or personal achievement.\\n\\n8. **Legacy and Impact**: For some, meaning is found in leaving a lasting legacy, while others focus on the present moment.\\n\\n9. **Handling Suffering**: Philosophies like Buddhism address suffering as central to life, suggesting meaning is found in overcoming adversity.\\n\\n10. **Modern Society's Impact**: Societal pressures may lead some to find meaning in productivity and success, while others value simpler aspects like nature or art.\\n\\n11. **Acceptance and Journey**: The search for meaning itself may be what gives life significance, rather than finding a definitive answer.\\n\\nIn conclusion, the meaning of life is a personal journey involving growth, relationships, contributions, and finding purpose in one's own way, without a single universal answer.\""
      ]
     },
     "execution_count": 17,
     "metadata": {},
     "output_type": "execute_result"
    }
   ],
   "source": [
    "result"
   ]
  },
  {
   "cell_type": "code",
   "execution_count": 18,
   "id": "1446f3fd",
   "metadata": {},
   "outputs": [],
   "source": [
    "embed_model = FastEmbedEmbedding(model_name=\"thenlper/gte-base\")"
   ]
  },
  {
   "cell_type": "code",
   "execution_count": 19,
   "id": "b8cf3370",
   "metadata": {},
   "outputs": [],
   "source": [
    "client = qdrant_client.QdrantClient(\n",
    "    #location=\":memory:\",\n",
    "    url = os.getenv(\"QDRANT_URL\"),\n",
    "    api_key=os.getenv(\"QDRANT_API_KEY\"),\n",
    "    prefer_grpc=True\n",
    ")   "
   ]
  },
  {
   "cell_type": "code",
   "execution_count": 20,
   "id": "21324a91",
   "metadata": {},
   "outputs": [],
   "source": [
    "collection_name = \"ComputerScienceOne\""
   ]
  },
  {
   "cell_type": "code",
   "execution_count": 21,
   "id": "8ea5ee6d",
   "metadata": {},
   "outputs": [],
   "source": [
    "if not client.collection_exists(collection_name=collection_name):\n",
    "    client.create_collection(\n",
    "        collection_name=collection_name,\n",
    "        vectors_config=models.VectorParams(\n",
    "            size=768,\n",
    "            distance=models.Distance.COSINE,\n",
    "            on_disk=True\n",
    "        ),\n",
    "        quantization_config=models.BinaryQuantization(\n",
    "            binary = models.BinaryQuantizationConfig(\n",
    "                always_ram=True\n",
    "            )\n",
    "        ),\n",
    "    )\n",
    "\n",
    "else:\n",
    "    print(\"Collection already exists\")"
   ]
  },
  {
   "cell_type": "code",
   "execution_count": 22,
   "id": "bd1e71ff",
   "metadata": {},
   "outputs": [],
   "source": [
    "embedding = []\n",
    "BATCH_SIZE = 50"
   ]
  },
  {
   "cell_type": "code",
   "execution_count": 23,
   "id": "e1d8553c",
   "metadata": {},
   "outputs": [],
   "source": [
    "for page in range(0, len(texts), BATCH_SIZE):\n",
    "    page_content = texts[page:page+BATCH_SIZE]\n",
    "    response = embed_model.get_text_embedding_batch(page_content)\n",
    "    embedding.extend(response)"
   ]
  },
  {
   "cell_type": "code",
   "execution_count": 24,
   "id": "d112f851",
   "metadata": {},
   "outputs": [],
   "source": [
    "for idx in range(0, len(texts), BATCH_SIZE):\n",
    "    docs = texts[idx:idx+BATCH_SIZE]\n",
    "    embeds = embedding[idx:idx+BATCH_SIZE]\n",
    "\n",
    "    client.upload_collection(collection_name=collection_name,\n",
    "                             vectors=embeds,\n",
    "                             payload = [{\"context\": context} for context in docs]\n",
    "                            )"
   ]
  },
  {
   "cell_type": "code",
   "execution_count": 25,
   "id": "0fdcbd8a",
   "metadata": {},
   "outputs": [
    {
     "data": {
      "text/plain": [
       "True"
      ]
     },
     "execution_count": 25,
     "metadata": {},
     "output_type": "execute_result"
    }
   ],
   "source": [
    "client.update_collection(collection_name=collection_name,\n",
    "                        optimizer_config=models.OptimizersConfigDiff(\n",
    "                            indexing_threshold=20000 \n",
    "                        )\n",
    "                        )"
   ]
  },
  {
   "cell_type": "code",
   "execution_count": 26,
   "id": "40d95000",
   "metadata": {},
   "outputs": [],
   "source": [
    "def search(query, k=5):\n",
    "    query_embedding = embed_model.get_text_embedding(query)\n",
    "    result = client.query_points(\n",
    "        collection_name=collection_name,\n",
    "        query=query_embedding,\n",
    "        limit=k\n",
    "    )\n",
    "    return result"
   ]
  },
  {
   "cell_type": "code",
   "execution_count": 27,
   "id": "dcc61996",
   "metadata": {},
   "outputs": [],
   "source": [
    "relevant_docs = search(\"What is the concept of recursion, and how does a recursive function work?\")"
   ]
  },
  {
   "cell_type": "code",
   "execution_count": 28,
   "id": "01de99a3",
   "metadata": {},
   "outputs": [
    {
     "name": "stdout",
     "output_type": "stream",
     "text": [
      "46. Recursion\n",
      "PHP supports recursion with no special syntax necessary. However, recursion is generally\n",
      "expensive and iterative or other non-recursive solutions are generally preferred. We\n",
      "present a few examples to demonstrate how to write recursive functions in PHP.\n",
      "The ﬁrst example of a recursive function we gave was the toy count down example. In\n",
      "PHP it could be implemented as follows.\n",
      "1 function countDown($n) {\n",
      "2 if($n===0) {\n",
      "3 printf(\"Happy New Year!\\n\");\n",
      "4 } else {\n",
      "5 printf(\"%d\\n\", $n);\n",
      "6 countDown($n-1);\n",
      "7 }\n",
      "8 }\n",
      "As another example that actually does something useful, consider the following recursive\n",
      "summation function that takes an array, its size and an index variable. The recursion\n",
      "works as follows: if the index variable has reached the size of the array, it stops and returns\n",
      "zero (the base case). Otherwise, it makes a recursive call to recSum(), incrementing\n",
      "the index variable by 1. When the function returns, it adds the result to the i-th element\n",
      "in the array. To invoke this function we would call it with an initial value of 0 for the\n",
      "index variable: recSum($arr, 0).\n",
      "1 function recSum($arr, $i) {\n",
      "2 if($i === count($arr)) {\n",
      "3 return 0;\n",
      "4 } else {\n",
      "5 return recSum($arr, $i+1) + $arr[$i];\n",
      "6 }\n",
      "7 }\n",
      "This example was not tail-recursive as the recursive call was not the ﬁnal operation (the\n",
      "sum was the ﬁnal operation). To make this function tail recursive, we can carry the\n",
      "summation through to each function call ensuring that the summation is done prior to\n",
      "577\n"
     ]
    }
   ],
   "source": [
    "print(relevant_docs.points[0].payload[\"context\"])"
   ]
  },
  {
   "cell_type": "code",
   "execution_count": 30,
   "id": "33efa0b5",
   "metadata": {},
   "outputs": [],
   "source": [
    "from llama_index.core import ChatPromptTemplate\n",
    "from llama_index.core.llms import ChatMessage,MessageRole\n",
    "\n",
    "message_template = [ \n",
    "    ChatMessage(\n",
    "        content=\"\"\"\n",
    "        You are a helpful assistant. You are given a question and some context. Your task is to answer the question based on the context provided.\n",
    "        \"\"\",\n",
    "        role=MessageRole.SYSTEM\n",
    "    ),\n",
    "    ChatMessage(\n",
    "        content=\"\"\"\n",
    "        Provided Context information below\n",
    "        {context_str}\n",
    "\n",
    "        ------------------\n",
    "        Given this context, answer the following question:\n",
    "        {query}\n",
    "\n",
    "        ------------------\n",
    "        If the question is not from the provided context, say \"I don't know. Not enough information to answer the question.\"\n",
    "        \"\"\",\n",
    "        role=MessageRole.USER\n",
    "    )\n",
    "]"
   ]
  },
  {
   "cell_type": "code",
   "execution_count": 33,
   "id": "7608c423",
   "metadata": {},
   "outputs": [],
   "source": [
    "def pipeline(query):\n",
    "\n",
    "    # Retrieval\n",
    "    relevant_docuemnts = search(query)\n",
    "    context = [doc.payload[\"context\"] for doc in relevant_docuemnts.points]\n",
    "    context = \"\\n\".join(context)\n",
    "\n",
    "    # Augmentation\n",
    "    chat_template = ChatPromptTemplate(message_templates=message_template)\n",
    "\n",
    "    # Generation\n",
    "    response = llm.complete(\n",
    "        chat_template.format(\n",
    "            context_str=context,\n",
    "            query=query\n",
    "        )\n",
    "    )\n",
    "\n",
    "    formatted_response = response.text.split(\"</think>\", 1)[-1].strip()\n",
    "    return formatted_response\n"
   ]
  },
  {
   "cell_type": "code",
   "execution_count": 34,
   "id": "b27b0233",
   "metadata": {},
   "outputs": [
    {
     "name": "stdout",
     "output_type": "stream",
     "text": [
      "Recursion is a programming technique where a function invokes itself to solve a problem. It breaks the problem into smaller, more manageable subproblems, each of which is an instance of the same problem. The function calls itself with modified parameters, continuing this process until it reaches a base case that stops the recursion. \n",
      "\n",
      "A recursive function operates by:\n",
      "1. **Base Case**: A condition that, when met, stops the recursion. It provides the simplest form of the problem that can be solved directly.\n",
      "2. **Recursive Step**: The function calls itself with a modified argument, reducing the problem size or altering it towards the base case.\n",
      "\n",
      "For example, in a countdown function, the base case is when the counter reaches zero, printing a message. Each recursive step decrements the counter and calls the function again. Similarly, the Fibonacci sequence uses recursion to compute each number as the sum of the two preceding ones, with base cases for the first two numbers.\n",
      "\n",
      "Recursion effectively uses the call stack to manage each function invocation, combining results as the stack unwinds. While it offers an elegant solution to certain problems, it can be less efficient than iterative methods due to repeated function calls and stack usage.\n"
     ]
    }
   ],
   "source": [
    "print(pipeline(\"What is the concept of recursion, and how does a recursive function work?\"))"
   ]
  },
  {
   "cell_type": "code",
   "execution_count": 35,
   "id": "35e2db8a",
   "metadata": {},
   "outputs": [
    {
     "name": "stdout",
     "output_type": "stream",
     "text": [
      "The different types of variables in programming, as discussed in the material, can be categorized into two main types: primitive data types and the classification based on typing.\n",
      "\n",
      "### Primitive Data Types:\n",
      "1. **Byte**: An 8-bit signed two's complement integer.\n",
      "2. **Short**: A 16-bit signed two's complement integer.\n",
      "3. **Int**: A 32-bit signed two's complement integer.\n",
      "4. **Long**: A 64-bit signed two's complement integer.\n",
      "5. **Float**: A 32-bit IEEE 754 floating-point number.\n",
      "6. **Double**: A 64-bit floating-point number.\n",
      "7. **Boolean**: Can be set to true or false.\n",
      "8. **Char**: A 16-bit Unicode (UTF-16) character, often treated as an integer representing an ASCII value.\n",
      "\n",
      "### Variable Classification by Typing:\n",
      "1. **Statically Typed Variables**: \n",
      "   - Variables must be declared with a specific type before use.\n",
      "   - Examples include Java, C, and C++. These languages enforce type safety at compile time.\n",
      "\n",
      "2. **Dynamically Typed Variables**:\n",
      "   - The type is determined by the value assigned at runtime.\n",
      "   - Examples include PHP and JavaScript. These languages offer flexibility but may lead to type-related errors if not managed properly.\n",
      "\n",
      "In summary, variables can be classified into primitive types such as byte, short, int, long, float, double, boolean, and char, and they can be either statically or dynamically typed based on the programming language's rules.\n"
     ]
    }
   ],
   "source": [
    "print(pipeline(\"What are the different types of variables in programming as discussed in the material?\"))"
   ]
  },
  {
   "cell_type": "code",
   "execution_count": null,
   "id": "9271548b",
   "metadata": {},
   "outputs": [],
   "source": []
  }
 ],
 "metadata": {
  "kernelspec": {
   "display_name": "Python 3",
   "language": "python",
   "name": "python3"
  },
  "language_info": {
   "codemirror_mode": {
    "name": "ipython",
    "version": 3
   },
   "file_extension": ".py",
   "mimetype": "text/x-python",
   "name": "python",
   "nbconvert_exporter": "python",
   "pygments_lexer": "ipython3",
   "version": "3.10.16"
  }
 },
 "nbformat": 4,
 "nbformat_minor": 5
}
